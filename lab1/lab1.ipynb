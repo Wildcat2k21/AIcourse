{
 "cells": [
  {
   "cell_type": "code",
   "execution_count": null,
   "id": "bfa19146-b3b4-4537-bae5-658dcb6f99d2",
   "metadata": {},
   "outputs": [],
   "source": [
    "# Практическое задание №1\n",
    "\n",
    "## Ход работы\n",
    "\n",
    "1. Создать новую md ячейку, со смешанным форматированием, с заголовком «Практическое задание №1», с нумерованным и маркированным списком, вставить формулу согласно индивидуальному заданию.\n",
    "2. Создать ячейку Python кода:\n",
    "   - Запросить ввод имени.\n",
    "   - Вывести приветствие: «Привет ИМЯ_ПОЛЬЗОВАТЕЛЯ».\n",
    "   - Запустить ячейку.\n",
    "\n",
    "### Формула:\n",
    "$$\\lim_{x\\rightarrow\\infty}{\\frac{1}{x}\\ \\sum_{i=1}^{n}f\\left(x_i\\right)=\\ \\int_{a}^{b}f\\left(x\\right)dx\\ }$$"
   ]
  },
  {
   "cell_type": "code",
   "execution_count": null,
   "id": "a93db5c7-b759-4f60-b6b7-1b1ac0c752d9",
   "metadata": {},
   "outputs": [],
   "source": [
    "Ячейка задания Python для ввода имени пользователя:\n",
    "```python\n",
    "# Запрос имени у пользователя\n",
    "name = input(\"Введите ваше имя: \")\n",
    "print(f\"Привет, {name}!\")\n",
    "```"
   ]
  },
  {
   "cell_type": "code",
   "execution_count": 14,
   "id": "06aed32f-cf02-48fe-894e-a53b9bdb5f87",
   "metadata": {},
   "outputs": [
    {
     "name": "stdin",
     "output_type": "stream",
     "text": [
      "Введите ваше имя:  Мэтью Макконахи\n"
     ]
    },
    {
     "name": "stdout",
     "output_type": "stream",
     "text": [
      "Привет, Мэтью Макконахи!\n"
     ]
    }
   ],
   "source": [
    "# Запрос имени у пользователя\n",
    "name = input(\"Введите ваше имя: \")\n",
    "print(f\"Привет, {name}!\")"
   ]
  },
  {
   "cell_type": "code",
   "execution_count": null,
   "id": "460ed5fb-44d7-4821-a012-45cd284b2b44",
   "metadata": {},
   "outputs": [],
   "source": []
  }
 ],
 "metadata": {
  "kernelspec": {
   "display_name": "Python [conda env:base] *",
   "language": "python",
   "name": "conda-base-py"
  },
  "language_info": {
   "codemirror_mode": {
    "name": "ipython",
    "version": 3
   },
   "file_extension": ".py",
   "mimetype": "text/x-python",
   "name": "python",
   "nbconvert_exporter": "python",
   "pygments_lexer": "ipython3",
   "version": "3.12.7"
  }
 },
 "nbformat": 4,
 "nbformat_minor": 5
}
